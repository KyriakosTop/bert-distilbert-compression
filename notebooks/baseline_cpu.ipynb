{
 "cells": [
  {
   "cell_type": "markdown",
   "metadata": {
    "id": "uHtH8NnSY0BB"
   },
   "source": [
    "# Baseline Evaluation – DistilBERT on CPU (FP32 vs 8-bit)\n",
    "\n",
    "This notebook evaluates the inference performance of a fine-tuned DistilBERT model on the SST-2 sentiment classification task using a CPU-only setup.\n",
    "\n",
    "It compares:\n",
    "- Full-precision (FP32) inference\n",
    "- Dynamic 8-bit quantized inference using PyTorch\n",
    "- A failed attempt at 4-bit quantization (included for completeness)\n",
    "\n",
    "### Metrics:\n",
    "- Accuracy (on the full SST-2 validation set)\n",
    "- Average latency per sample (in milliseconds)\n",
    "- RAM usage increase during evaluation (in MB)\n",
    "\n",
    "All experiments are performed using Hugging Face Transformers and PyTorch, without GPU acceleration."
   ]
  },
  {
   "cell_type": "code",
   "execution_count": 1,
   "metadata": {
    "collapsed": true,
    "executionInfo": {
     "elapsed": 54506,
     "status": "ok",
     "timestamp": 1753365839686,
     "user": {
      "displayName": "Kyriakos T.",
      "userId": "13061897858849939057"
     },
     "user_tz": -180
    },
    "id": "cI16To9LY15a"
   },
   "outputs": [],
   "source": [
    "!pip install -q transformers datasets psutil\n",
    "\n",
    "import torch\n",
    "from torch.utils.data import Dataset\n",
    "from transformers import AutoTokenizer, AutoModelForSequenceClassification\n",
    "from datasets import load_dataset\n",
    "import psutil, os, time, numpy as np"
   ]
  },
  {
   "cell_type": "markdown",
   "metadata": {
    "id": "6DF3MKWqY2Xc"
   },
   "source": [
    "## 1. Load Pretrained DistilBERT and SST-2 Dataset\n",
    "\n",
    "We use the fine-tuned DistilBERT model for SST-2 from Hugging Face.\n",
    "\n",
    "- The model is already trained and ready for inference.\n",
    "- We use the first 100 validation samples from SST-2 for benchmarking.\n",
    "\n",
    "\n",
    "\n"
   ]
  },
  {
   "cell_type": "code",
   "execution_count": 2,
   "metadata": {
    "colab": {
     "base_uri": "https://localhost:8080/",
     "height": 153,
     "referenced_widgets": [
      "7eae2e0766064a58a66e75fa583eaad6",
      "90616a2470fa4464bac209817b43ff60",
      "46c6d1b34fba42b485e985061ec8288a",
      "808f3d59532b497c910c5af4826f5446",
      "47a3ba3a2302414999848e27ead084aa",
      "9e75f0543b894337815d076a2fecda32",
      "f85e0cf49dce40dcb71661af870e9f75",
      "c4fa080ff8fc4dc4a58cd9ee3d3031d2",
      "d86da02c25b8426292c08856ae244bca",
      "198d9cfc2ca4428fa346327b9fcb306f",
      "f9d5a38aa73b4dbd8d342e881a7f1283"
     ]
    },
    "collapsed": true,
    "executionInfo": {
     "elapsed": 18592,
     "status": "ok",
     "timestamp": 1753365858275,
     "user": {
      "displayName": "Kyriakos T.",
      "userId": "13061897858849939057"
     },
     "user_tz": -180
    },
    "id": "f1ug78igZmqJ",
    "outputId": "2f1d14d1-20cb-4c8f-93b0-e4dd11b83c84"
   },
   "outputs": [
    {
     "name": "stderr",
     "output_type": "stream",
     "text": [
      "/usr/local/lib/python3.11/dist-packages/huggingface_hub/utils/_auth.py:94: UserWarning: \n",
      "The secret `HF_TOKEN` does not exist in your Colab secrets.\n",
      "To authenticate with the Hugging Face Hub, create a token in your settings tab (https://huggingface.co/settings/tokens), set it as secret in your Google Colab and restart your session.\n",
      "You will be able to reuse this secret in all of your notebooks.\n",
      "Please note that authentication is recommended but still optional to access public models or datasets.\n",
      "  warnings.warn(\n"
     ]
    },
    {
     "data": {
      "application/vnd.jupyter.widget-view+json": {
       "model_id": "7eae2e0766064a58a66e75fa583eaad6",
       "version_major": 2,
       "version_minor": 0
      },
      "text/plain": [
       "Map:   0%|          | 0/872 [00:00<?, ? examples/s]"
      ]
     },
     "metadata": {},
     "output_type": "display_data"
    }
   ],
   "source": [
    "model_id = \"distilbert-base-uncased-finetuned-sst-2-english\"\n",
    "\n",
    "# Load tokenizer and model\n",
    "tokenizer = AutoTokenizer.from_pretrained(model_id)\n",
    "model_fp32 = AutoModelForSequenceClassification.from_pretrained(model_id)\n",
    "\n",
    "# Load SST-2 validation split (first 100 examples)\n",
    "raw_dataset = load_dataset(\"glue\", \"sst2\", split=\"validation\")\n",
    "\n",
    "# Tokenize the dataset\n",
    "def tokenize_function(example):\n",
    "    return tokenizer(example[\"sentence\"], padding=\"max_length\", truncation=True, max_length=128)\n",
    "\n",
    "tokenized_dataset = raw_dataset.map(tokenize_function)\n",
    "\n",
    "# Convert into a plain PyTorch Dataset\n",
    "class SST2Dataset(Dataset):\n",
    "    def __init__(self, hf_dataset):\n",
    "        self.input_ids = [torch.tensor(x) for x in hf_dataset[\"input_ids\"]]\n",
    "        self.attention_mask = [torch.tensor(x) for x in hf_dataset[\"attention_mask\"]]\n",
    "        self.labels = [torch.tensor(x) for x in hf_dataset[\"label\"]]\n",
    "\n",
    "    def __len__(self):\n",
    "        return len(self.labels)\n",
    "\n",
    "    def __getitem__(self, idx):\n",
    "        return {\n",
    "            \"input_ids\": self.input_ids[idx],\n",
    "            \"attention_mask\": self.attention_mask[idx],\n",
    "            \"label\": self.labels[idx]\n",
    "        }\n",
    "\n",
    "dataset = SST2Dataset(tokenized_dataset)\n"
   ]
  },
  {
   "cell_type": "markdown",
   "metadata": {
    "id": "OKXt5XMqqeJz"
   },
   "source": [
    "## 2. Define Evaluation Function\n",
    "\n",
    "This function evaluates the model on the SST-2 validation set using CPU.\n",
    "\n",
    "It measures:\n",
    "- ✅ Accuracy (% of correct predictions)\n",
    "- ⏱️ Average latency per sample (in seconds)\n",
    "- 💾 RAM usage increase during evaluation (in MB)\n",
    "\n",
    "All computations are done on CPU."
   ]
  },
  {
   "cell_type": "code",
   "execution_count": 3,
   "metadata": {
    "executionInfo": {
     "elapsed": 41,
     "status": "ok",
     "timestamp": 1753365858317,
     "user": {
      "displayName": "Kyriakos T.",
      "userId": "13061897858849939057"
     },
     "user_tz": -180
    },
    "id": "_-2c7138qhyG"
   },
   "outputs": [],
   "source": [
    "def evaluate_model(model, dataset):\n",
    "    model.eval()\n",
    "    process = psutil.Process(os.getpid())\n",
    "    start_mem = process.memory_info().rss\n",
    "    correct = 0\n",
    "    latencies = []\n",
    "\n",
    "    with torch.no_grad():\n",
    "        for sample in dataset:\n",
    "            inputs = {\n",
    "                \"input_ids\": sample[\"input_ids\"].unsqueeze(0),\n",
    "                \"attention_mask\": sample[\"attention_mask\"].unsqueeze(0),\n",
    "            }\n",
    "            label = sample[\"label\"]\n",
    "\n",
    "            start_time = time.time()\n",
    "            outputs = model(**inputs)\n",
    "            end_time = time.time()\n",
    "\n",
    "            pred = torch.argmax(outputs.logits, dim=1).item()\n",
    "            correct += (pred == label)\n",
    "            latencies.append(end_time - start_time)\n",
    "\n",
    "    end_mem = process.memory_info().rss\n",
    "    delta_mem = (end_mem - start_mem) / (1024 ** 2)  # MB\n",
    "\n",
    "    accuracy = correct / len(dataset)\n",
    "    avg_latency = np.mean(latencies)\n",
    "    return accuracy, avg_latency, delta_mem"
   ]
  },
  {
   "cell_type": "markdown",
   "metadata": {
    "id": "WMXw7x7QqpOW"
   },
   "source": [
    "## 3. Run Full-Precision (FP32) Evaluation on CPU\n",
    "\n",
    "We now evaluate the full-precision (FP32) DistilBERT model using only the CPU.\n",
    "\n",
    "This serves as our performance baseline before applying any compression.\n"
   ]
  },
  {
   "cell_type": "code",
   "execution_count": 4,
   "metadata": {
    "colab": {
     "base_uri": "https://localhost:8080/"
    },
    "executionInfo": {
     "elapsed": 307071,
     "status": "ok",
     "timestamp": 1753366165394,
     "user": {
      "displayName": "Kyriakos T.",
      "userId": "13061897858849939057"
     },
     "user_tz": -180
    },
    "id": "R0MOBpp-qpvw",
    "outputId": "dd3449e9-1680-4007-bfc7-47665a126307"
   },
   "outputs": [
    {
     "name": "stdout",
     "output_type": "stream",
     "text": [
      "✅ Accuracy (FP32): 91.06%\n",
      "🕒 Latency per sample (FP32): 0.3520 seconds\n",
      "💾 Memory usage increase (FP32): 273.00 MB\n"
     ]
    }
   ],
   "source": [
    "accuracy_fp32, latency_fp32, memory_fp32 = evaluate_model(model_fp32, dataset)\n",
    "\n",
    "print(f\"✅ Accuracy (FP32): {accuracy_fp32:.2%}\")\n",
    "print(f\"🕒 Latency per sample (FP32): {latency_fp32:.4f} seconds\")\n",
    "print(f\"💾 Memory usage increase (FP32): {memory_fp32:.2f} MB\")"
   ]
  },
  {
   "cell_type": "markdown",
   "metadata": {
    "id": "kfUAZAWaxjxm"
   },
   "source": [
    "## 4. Quantize the Model (8-bit Dynamic)\n",
    "\n",
    "We apply dynamic 8-bit quantization to the full-precision DistilBERT model using PyTorch.\n",
    "\n",
    "This converts linear layers to their quantized versions, reducing memory usage and potentially improving inference speed on CPU.\n"
   ]
  },
  {
   "cell_type": "code",
   "execution_count": 6,
   "metadata": {
    "executionInfo": {
     "elapsed": 2202,
     "status": "ok",
     "timestamp": 1753366318672,
     "user": {
      "displayName": "Kyriakos T.",
      "userId": "13061897858849939057"
     },
     "user_tz": -180
    },
    "id": "vvJkuBlqxlHK"
   },
   "outputs": [],
   "source": [
    "from torch.quantization import quantize_dynamic\n",
    "\n",
    "# Apply dynamic quantization to linear layers\n",
    "model_int8 = quantize_dynamic(\n",
    "    model_fp32, {torch.nn.Linear}, dtype=torch.qint8\n",
    ")"
   ]
  },
  {
   "cell_type": "markdown",
   "metadata": {
    "id": "Vg2lUzCixswi"
   },
   "source": [
    "## 5. Evaluate Quantized Model (INT8)\n",
    "\n",
    "We now run the same evaluation pipeline on the quantized DistilBERT model.\n",
    "\n",
    "We expect:\n",
    "- Slight drop in accuracy\n",
    "- Reduced memory usage\n",
    "- Possibly improved or stable inference time\n"
   ]
  },
  {
   "cell_type": "code",
   "execution_count": 7,
   "metadata": {
    "colab": {
     "base_uri": "https://localhost:8080/"
    },
    "executionInfo": {
     "elapsed": 132109,
     "status": "ok",
     "timestamp": 1753366463199,
     "user": {
      "displayName": "Kyriakos T.",
      "userId": "13061897858849939057"
     },
     "user_tz": -180
    },
    "id": "M-m0by_hxuva",
    "outputId": "95d24b76-f83c-4439-f596-d291decf5fd2"
   },
   "outputs": [
    {
     "name": "stdout",
     "output_type": "stream",
     "text": [
      "✅ Accuracy (INT8): 89.33%\n",
      "🕒 Latency per sample (INT8): 0.1513 seconds\n",
      "💾 Memory usage increase (INT8): 5.81 MB\n"
     ]
    }
   ],
   "source": [
    "accuracy_int8, latency_int8, memory_int8 = evaluate_model(model_int8, dataset)\n",
    "\n",
    "print(f\"✅ Accuracy (INT8): {accuracy_int8:.2%}\")\n",
    "print(f\"🕒 Latency per sample (INT8): {latency_int8:.4f} seconds\")\n",
    "print(f\"💾 Memory usage increase (INT8): {memory_int8:.2f} MB\")"
   ]
  },
  {
   "cell_type": "markdown",
   "metadata": {
    "id": "GgMCtTu81-FX"
   },
   "source": [
    "## 6. Attempted 4-bit Quantization (Failed)\n",
    "\n",
    "We attempted to apply 4-bit post-training quantization using PyTorch's `quantize_dynamic` method. However, this operation is not supported:\n",
    "\n",
    "- PyTorch dynamic quantization only supports `qint8` (8-bit) for `torch.nn.Linear`.\n",
    "- Lower-bit quantization (e.g., 4-bit) requires specialized toolkits such as [bitsandbytes](https://github.com/TimDettmers/bitsandbytes), QLoRA, or custom kernels.\n",
    "- These techniques are not currently available or stable on CPU-only inference in PyTorch.\n",
    "\n",
    "Attempting to quantize with 4-bit raised a runtime error, which is expected:"
   ]
  },
  {
   "cell_type": "code",
   "execution_count": 15,
   "metadata": {
    "colab": {
     "base_uri": "https://localhost:8080/",
     "height": 356
    },
    "executionInfo": {
     "elapsed": 322,
     "status": "error",
     "timestamp": 1753367509062,
     "user": {
      "displayName": "Kyriakos T.",
      "userId": "13061897858849939057"
     },
     "user_tz": -180
    },
    "id": "qey01xk61-Ui",
    "outputId": "11738994-d0a0-446b-a8fa-f928c0c69833"
   },
   "outputs": [
    {
     "ename": "AssertionError",
     "evalue": "The only supported dtypes for dynamic quantized linear are qint8 and float16 got: torch.quint4x2",
     "output_type": "error",
     "traceback": [
      "\u001b[0;31m---------------------------------------------------------------------------\u001b[0m",
      "\u001b[0;31mAssertionError\u001b[0m                            Traceback (most recent call last)",
      "\u001b[0;32m/tmp/ipython-input-15-2550942292.py\u001b[0m in \u001b[0;36m<cell line: 0>\u001b[0;34m()\u001b[0m\n\u001b[1;32m      1\u001b[0m \u001b[0;31m# This code was attempted but not supported by PyTorch:\u001b[0m\u001b[0;34m\u001b[0m\u001b[0;34m\u001b[0m\u001b[0m\n\u001b[1;32m      2\u001b[0m \u001b[0;32mfrom\u001b[0m \u001b[0mtorch\u001b[0m\u001b[0;34m.\u001b[0m\u001b[0mquantization\u001b[0m \u001b[0;32mimport\u001b[0m \u001b[0mquantize_dynamic\u001b[0m\u001b[0;34m\u001b[0m\u001b[0;34m\u001b[0m\u001b[0m\n\u001b[0;32m----> 3\u001b[0;31m model_4bit = quantize_dynamic(\n\u001b[0m\u001b[1;32m      4\u001b[0m     \u001b[0mmodel_fp32\u001b[0m\u001b[0;34m,\u001b[0m \u001b[0;34m{\u001b[0m\u001b[0mtorch\u001b[0m\u001b[0;34m.\u001b[0m\u001b[0mnn\u001b[0m\u001b[0;34m.\u001b[0m\u001b[0mLinear\u001b[0m\u001b[0;34m}\u001b[0m\u001b[0;34m,\u001b[0m \u001b[0mdtype\u001b[0m\u001b[0;34m=\u001b[0m\u001b[0mtorch\u001b[0m\u001b[0;34m.\u001b[0m\u001b[0mquint4x2\u001b[0m  \u001b[0;31m# Not supported!\u001b[0m\u001b[0;34m\u001b[0m\u001b[0;34m\u001b[0m\u001b[0m\n\u001b[1;32m      5\u001b[0m )\n",
      "\u001b[0;32m/usr/local/lib/python3.11/dist-packages/torch/ao/quantization/quantize.py\u001b[0m in \u001b[0;36mquantize_dynamic\u001b[0;34m(model, qconfig_spec, dtype, mapping, inplace)\u001b[0m\n\u001b[1;32m    560\u001b[0m     \u001b[0mmodel\u001b[0m\u001b[0;34m.\u001b[0m\u001b[0meval\u001b[0m\u001b[0;34m(\u001b[0m\u001b[0;34m)\u001b[0m\u001b[0;34m\u001b[0m\u001b[0;34m\u001b[0m\u001b[0m\n\u001b[1;32m    561\u001b[0m     \u001b[0mpropagate_qconfig_\u001b[0m\u001b[0;34m(\u001b[0m\u001b[0mmodel\u001b[0m\u001b[0;34m,\u001b[0m \u001b[0mqconfig_spec\u001b[0m\u001b[0;34m)\u001b[0m\u001b[0;34m\u001b[0m\u001b[0;34m\u001b[0m\u001b[0m\n\u001b[0;32m--> 562\u001b[0;31m     \u001b[0mconvert\u001b[0m\u001b[0;34m(\u001b[0m\u001b[0mmodel\u001b[0m\u001b[0;34m,\u001b[0m \u001b[0mmapping\u001b[0m\u001b[0;34m,\u001b[0m \u001b[0minplace\u001b[0m\u001b[0;34m=\u001b[0m\u001b[0;32mTrue\u001b[0m\u001b[0;34m)\u001b[0m\u001b[0;34m\u001b[0m\u001b[0;34m\u001b[0m\u001b[0m\n\u001b[0m\u001b[1;32m    563\u001b[0m     \u001b[0;32mreturn\u001b[0m \u001b[0mmodel\u001b[0m\u001b[0;34m\u001b[0m\u001b[0;34m\u001b[0m\u001b[0m\n\u001b[1;32m    564\u001b[0m \u001b[0;34m\u001b[0m\u001b[0m\n",
      "\u001b[0;32m/usr/local/lib/python3.11/dist-packages/torch/ao/quantization/quantize.py\u001b[0m in \u001b[0;36mconvert\u001b[0;34m(module, mapping, inplace, remove_qconfig, is_reference, convert_custom_config_dict, use_precomputed_fake_quant)\u001b[0m\n\u001b[1;32m    655\u001b[0m     \u001b[0;32mif\u001b[0m \u001b[0;32mnot\u001b[0m \u001b[0minplace\u001b[0m\u001b[0;34m:\u001b[0m\u001b[0;34m\u001b[0m\u001b[0;34m\u001b[0m\u001b[0m\n\u001b[1;32m    656\u001b[0m         \u001b[0mmodule\u001b[0m \u001b[0;34m=\u001b[0m \u001b[0mcopy\u001b[0m\u001b[0;34m.\u001b[0m\u001b[0mdeepcopy\u001b[0m\u001b[0;34m(\u001b[0m\u001b[0mmodule\u001b[0m\u001b[0;34m)\u001b[0m\u001b[0;34m\u001b[0m\u001b[0;34m\u001b[0m\u001b[0m\n\u001b[0;32m--> 657\u001b[0;31m     _convert(\n\u001b[0m\u001b[1;32m    658\u001b[0m         \u001b[0mmodule\u001b[0m\u001b[0;34m,\u001b[0m\u001b[0;34m\u001b[0m\u001b[0;34m\u001b[0m\u001b[0m\n\u001b[1;32m    659\u001b[0m         \u001b[0mmapping\u001b[0m\u001b[0;34m,\u001b[0m\u001b[0;34m\u001b[0m\u001b[0;34m\u001b[0m\u001b[0m\n",
      "\u001b[0;32m/usr/local/lib/python3.11/dist-packages/torch/ao/quantization/quantize.py\u001b[0m in \u001b[0;36m_convert\u001b[0;34m(module, mapping, inplace, is_reference, convert_custom_config_dict, use_precomputed_fake_quant)\u001b[0m\n\u001b[1;32m    712\u001b[0m             \u001b[0;32mand\u001b[0m \u001b[0mtype_before_parametrizations\u001b[0m\u001b[0;34m(\u001b[0m\u001b[0mmod\u001b[0m\u001b[0;34m)\u001b[0m \u001b[0;32mnot\u001b[0m \u001b[0;32min\u001b[0m \u001b[0mcustom_module_class_mapping\u001b[0m\u001b[0;34m\u001b[0m\u001b[0;34m\u001b[0m\u001b[0m\n\u001b[1;32m    713\u001b[0m         ):\n\u001b[0;32m--> 714\u001b[0;31m             _convert(\n\u001b[0m\u001b[1;32m    715\u001b[0m                 \u001b[0mmod\u001b[0m\u001b[0;34m,\u001b[0m\u001b[0;34m\u001b[0m\u001b[0;34m\u001b[0m\u001b[0m\n\u001b[1;32m    716\u001b[0m                 \u001b[0mmapping\u001b[0m\u001b[0;34m,\u001b[0m\u001b[0;34m\u001b[0m\u001b[0;34m\u001b[0m\u001b[0m\n",
      "\u001b[0;32m/usr/local/lib/python3.11/dist-packages/torch/ao/quantization/quantize.py\u001b[0m in \u001b[0;36m_convert\u001b[0;34m(module, mapping, inplace, is_reference, convert_custom_config_dict, use_precomputed_fake_quant)\u001b[0m\n\u001b[1;32m    712\u001b[0m             \u001b[0;32mand\u001b[0m \u001b[0mtype_before_parametrizations\u001b[0m\u001b[0;34m(\u001b[0m\u001b[0mmod\u001b[0m\u001b[0;34m)\u001b[0m \u001b[0;32mnot\u001b[0m \u001b[0;32min\u001b[0m \u001b[0mcustom_module_class_mapping\u001b[0m\u001b[0;34m\u001b[0m\u001b[0;34m\u001b[0m\u001b[0m\n\u001b[1;32m    713\u001b[0m         ):\n\u001b[0;32m--> 714\u001b[0;31m             _convert(\n\u001b[0m\u001b[1;32m    715\u001b[0m                 \u001b[0mmod\u001b[0m\u001b[0;34m,\u001b[0m\u001b[0;34m\u001b[0m\u001b[0;34m\u001b[0m\u001b[0m\n\u001b[1;32m    716\u001b[0m                 \u001b[0mmapping\u001b[0m\u001b[0;34m,\u001b[0m\u001b[0;34m\u001b[0m\u001b[0;34m\u001b[0m\u001b[0m\n",
      "\u001b[0;32m/usr/local/lib/python3.11/dist-packages/torch/ao/quantization/quantize.py\u001b[0m in \u001b[0;36m_convert\u001b[0;34m(module, mapping, inplace, is_reference, convert_custom_config_dict, use_precomputed_fake_quant)\u001b[0m\n\u001b[1;32m    712\u001b[0m             \u001b[0;32mand\u001b[0m \u001b[0mtype_before_parametrizations\u001b[0m\u001b[0;34m(\u001b[0m\u001b[0mmod\u001b[0m\u001b[0;34m)\u001b[0m \u001b[0;32mnot\u001b[0m \u001b[0;32min\u001b[0m \u001b[0mcustom_module_class_mapping\u001b[0m\u001b[0;34m\u001b[0m\u001b[0;34m\u001b[0m\u001b[0m\n\u001b[1;32m    713\u001b[0m         ):\n\u001b[0;32m--> 714\u001b[0;31m             _convert(\n\u001b[0m\u001b[1;32m    715\u001b[0m                 \u001b[0mmod\u001b[0m\u001b[0;34m,\u001b[0m\u001b[0;34m\u001b[0m\u001b[0;34m\u001b[0m\u001b[0m\n\u001b[1;32m    716\u001b[0m                 \u001b[0mmapping\u001b[0m\u001b[0;34m,\u001b[0m\u001b[0;34m\u001b[0m\u001b[0;34m\u001b[0m\u001b[0m\n",
      "\u001b[0;32m/usr/local/lib/python3.11/dist-packages/torch/ao/quantization/quantize.py\u001b[0m in \u001b[0;36m_convert\u001b[0;34m(module, mapping, inplace, is_reference, convert_custom_config_dict, use_precomputed_fake_quant)\u001b[0m\n\u001b[1;32m    712\u001b[0m             \u001b[0;32mand\u001b[0m \u001b[0mtype_before_parametrizations\u001b[0m\u001b[0;34m(\u001b[0m\u001b[0mmod\u001b[0m\u001b[0;34m)\u001b[0m \u001b[0;32mnot\u001b[0m \u001b[0;32min\u001b[0m \u001b[0mcustom_module_class_mapping\u001b[0m\u001b[0;34m\u001b[0m\u001b[0;34m\u001b[0m\u001b[0m\n\u001b[1;32m    713\u001b[0m         ):\n\u001b[0;32m--> 714\u001b[0;31m             _convert(\n\u001b[0m\u001b[1;32m    715\u001b[0m                 \u001b[0mmod\u001b[0m\u001b[0;34m,\u001b[0m\u001b[0;34m\u001b[0m\u001b[0;34m\u001b[0m\u001b[0m\n\u001b[1;32m    716\u001b[0m                 \u001b[0mmapping\u001b[0m\u001b[0;34m,\u001b[0m\u001b[0;34m\u001b[0m\u001b[0;34m\u001b[0m\u001b[0m\n",
      "\u001b[0;32m/usr/local/lib/python3.11/dist-packages/torch/ao/quantization/quantize.py\u001b[0m in \u001b[0;36m_convert\u001b[0;34m(module, mapping, inplace, is_reference, convert_custom_config_dict, use_precomputed_fake_quant)\u001b[0m\n\u001b[1;32m    712\u001b[0m             \u001b[0;32mand\u001b[0m \u001b[0mtype_before_parametrizations\u001b[0m\u001b[0;34m(\u001b[0m\u001b[0mmod\u001b[0m\u001b[0;34m)\u001b[0m \u001b[0;32mnot\u001b[0m \u001b[0;32min\u001b[0m \u001b[0mcustom_module_class_mapping\u001b[0m\u001b[0;34m\u001b[0m\u001b[0;34m\u001b[0m\u001b[0m\n\u001b[1;32m    713\u001b[0m         ):\n\u001b[0;32m--> 714\u001b[0;31m             _convert(\n\u001b[0m\u001b[1;32m    715\u001b[0m                 \u001b[0mmod\u001b[0m\u001b[0;34m,\u001b[0m\u001b[0;34m\u001b[0m\u001b[0;34m\u001b[0m\u001b[0m\n\u001b[1;32m    716\u001b[0m                 \u001b[0mmapping\u001b[0m\u001b[0;34m,\u001b[0m\u001b[0;34m\u001b[0m\u001b[0;34m\u001b[0m\u001b[0m\n",
      "\u001b[0;32m/usr/local/lib/python3.11/dist-packages/torch/ao/quantization/quantize.py\u001b[0m in \u001b[0;36m_convert\u001b[0;34m(module, mapping, inplace, is_reference, convert_custom_config_dict, use_precomputed_fake_quant)\u001b[0m\n\u001b[1;32m    720\u001b[0m                 \u001b[0muse_precomputed_fake_quant\u001b[0m\u001b[0;34m=\u001b[0m\u001b[0muse_precomputed_fake_quant\u001b[0m\u001b[0;34m,\u001b[0m\u001b[0;34m\u001b[0m\u001b[0;34m\u001b[0m\u001b[0m\n\u001b[1;32m    721\u001b[0m             )\n\u001b[0;32m--> 722\u001b[0;31m         reassign[name] = swap_module(\n\u001b[0m\u001b[1;32m    723\u001b[0m             \u001b[0mmod\u001b[0m\u001b[0;34m,\u001b[0m \u001b[0mmapping\u001b[0m\u001b[0;34m,\u001b[0m \u001b[0mcustom_module_class_mapping\u001b[0m\u001b[0;34m,\u001b[0m \u001b[0muse_precomputed_fake_quant\u001b[0m\u001b[0;34m\u001b[0m\u001b[0;34m\u001b[0m\u001b[0m\n\u001b[1;32m    724\u001b[0m         )\n",
      "\u001b[0;32m/usr/local/lib/python3.11/dist-packages/torch/ao/quantization/quantize.py\u001b[0m in \u001b[0;36mswap_module\u001b[0;34m(mod, mapping, custom_module_class_mapping, use_precomputed_fake_quant)\u001b[0m\n\u001b[1;32m    762\u001b[0m                 \u001b[0msig\u001b[0m \u001b[0;34m=\u001b[0m \u001b[0minspect\u001b[0m\u001b[0;34m.\u001b[0m\u001b[0msignature\u001b[0m\u001b[0;34m(\u001b[0m\u001b[0mqmod\u001b[0m\u001b[0;34m.\u001b[0m\u001b[0mfrom_float\u001b[0m\u001b[0;34m)\u001b[0m\u001b[0;34m\u001b[0m\u001b[0;34m\u001b[0m\u001b[0m\n\u001b[1;32m    763\u001b[0m                 \u001b[0;32mif\u001b[0m \u001b[0;34m\"use_precomputed_fake_quant\"\u001b[0m \u001b[0;32min\u001b[0m \u001b[0msig\u001b[0m\u001b[0;34m.\u001b[0m\u001b[0mparameters\u001b[0m\u001b[0;34m:\u001b[0m\u001b[0;34m\u001b[0m\u001b[0;34m\u001b[0m\u001b[0m\n\u001b[0;32m--> 764\u001b[0;31m                     new_mod = qmod.from_float(\n\u001b[0m\u001b[1;32m    765\u001b[0m                         \u001b[0mmod\u001b[0m\u001b[0;34m,\u001b[0m \u001b[0muse_precomputed_fake_quant\u001b[0m\u001b[0;34m=\u001b[0m\u001b[0muse_precomputed_fake_quant\u001b[0m\u001b[0;34m\u001b[0m\u001b[0;34m\u001b[0m\u001b[0m\n\u001b[1;32m    766\u001b[0m                     )\n",
      "\u001b[0;32m/usr/local/lib/python3.11/dist-packages/torch/ao/nn/quantized/dynamic/modules/linear.py\u001b[0m in \u001b[0;36mfrom_float\u001b[0;34m(cls, mod, use_precomputed_fake_quant)\u001b[0m\n\u001b[1;32m    130\u001b[0m             \u001b[0mweight_observer\u001b[0m \u001b[0;34m=\u001b[0m \u001b[0mdefault_dynamic_qconfig\u001b[0m\u001b[0;34m.\u001b[0m\u001b[0mweight\u001b[0m\u001b[0;34m(\u001b[0m\u001b[0;34m)\u001b[0m\u001b[0;34m\u001b[0m\u001b[0;34m\u001b[0m\u001b[0m\n\u001b[1;32m    131\u001b[0m         \u001b[0mdtype\u001b[0m \u001b[0;34m=\u001b[0m \u001b[0mweight_observer\u001b[0m\u001b[0;34m.\u001b[0m\u001b[0mdtype\u001b[0m\u001b[0;34m\u001b[0m\u001b[0;34m\u001b[0m\u001b[0m\n\u001b[0;32m--> 132\u001b[0;31m         assert dtype in [torch.qint8, torch.float16], (\n\u001b[0m\u001b[1;32m    133\u001b[0m             \u001b[0;34m\"The only supported dtypes for \"\u001b[0m\u001b[0;34m\u001b[0m\u001b[0;34m\u001b[0m\u001b[0m\n\u001b[1;32m    134\u001b[0m             \u001b[0;34mf\"dynamic quantized linear are qint8 and float16 got: {dtype}\"\u001b[0m\u001b[0;34m\u001b[0m\u001b[0;34m\u001b[0m\u001b[0m\n",
      "\u001b[0;31mAssertionError\u001b[0m: The only supported dtypes for dynamic quantized linear are qint8 and float16 got: torch.quint4x2"
     ]
    }
   ],
   "source": [
    "# This code was attempted but not supported by PyTorch:\n",
    "#  from torch.quantization import quantize_dynamic\n",
    "#  model_4bit = quantize_dynamic(\n",
    "#      model_fp32, {torch.nn.Linear}, dtype=torch.quint4x2\n",
    "#  )\n"
   ]
  },
  {
   "cell_type": "markdown",
   "metadata": {
    "id": "NI6dQGI0yiBV"
   },
   "source": [
    "## 7. Summary: FP32 vs INT8 Quantized DistilBERT on CPU\n",
    "\n",
    "| Metric              | FP32              | INT8 (8-bit)       | Change                      |\n",
    "|---------------------|-------------------|--------------------|-----------------------------|\n",
    "| **Accuracy**        | 91.06%            | 89.33%             | –1.73%                      |\n",
    "| **Latency/sample**  | 0.3520 sec        | 0.1513 sec         | 🔽 ~57% faster              |\n",
    "| **Memory increase** | 273.00 MB         | 5.81 MB            | 🔽 ~98% smaller             |\n",
    "\n",
    "**Observations:**\n",
    "- Dynamic quantization significantly reduces memory usage and latency.\n",
    "- Accuracy remains competitive, with only a minor drop (~1.7%).\n",
    "- These results confirm that 8-bit quantization is highly effective for deploying DistilBERT in low-resource environments.\n"
   ]
  },
  {
   "cell_type": "code",
   "execution_count": 10,
   "metadata": {
    "colab": {
     "base_uri": "https://localhost:8080/",
     "height": 487
    },
    "executionInfo": {
     "elapsed": 605,
     "status": "ok",
     "timestamp": 1753366663608,
     "user": {
      "displayName": "Kyriakos T.",
      "userId": "13061897858849939057"
     },
     "user_tz": -180
    },
    "id": "ni0SS4u6ym6T",
    "outputId": "6048532d-e5e1-41d8-eb59-2105ef183288"
   },
   "outputs": [
    {
     "data": {
      "image/png": "[encoded data removed]",
      "text/plain": [
       "<Figure size 640x480 with 1 Axes>"
      ]
     },
     "metadata": {},
     "output_type": "display_data"
    }
   ],
   "source": [
    "import matplotlib.pyplot as plt\n",
    "\n",
    "labels = [\"Accuracy (%)\", \"Latency (ms)\", \"Memory (MB)\"]\n",
    "fp32_vals = [accuracy_fp32 * 100, latency_fp32 * 1000, memory_fp32]\n",
    "int8_vals = [accuracy_int8 * 100, latency_int8 * 1000, memory_int8]\n",
    "\n",
    "x = np.arange(len(labels))\n",
    "width = 0.35\n",
    "\n",
    "fig, ax = plt.subplots()\n",
    "bars1 = ax.bar(x - width/2, fp32_vals, width, label='FP32')\n",
    "bars2 = ax.bar(x + width/2, int8_vals, width, label='INT8')\n",
    "\n",
    "ax.set_ylabel(\"Value\")\n",
    "ax.set_title(\"DistilBERT Performance on CPU\")\n",
    "ax.set_xticks(x)\n",
    "ax.set_xticklabels(labels)\n",
    "ax.legend()\n",
    "\n",
    "# Annotate bars with values\n",
    "for bars in [bars1, bars2]:\n",
    "    for bar in bars:\n",
    "        yval = bar.get_height()\n",
    "        ax.text(bar.get_x() + bar.get_width()/2.0, yval + 1, f'{yval:.2f}', ha='center', va='bottom')\n",
    "\n",
    "plt.tight_layout()\n",
    "plt.show()"
   ]
  }
 ],
 "metadata": {
  "colab": {
   "authorship_tag": "ABX9TyOQMluzXGHQ3NYMrULfG2pK",
   "collapsed_sections": [
    "6DF3MKWqY2Xc",
    "OKXt5XMqqeJz",
    "kfUAZAWaxjxm",
    "GgMCtTu81-FX",
    "NI6dQGI0yiBV"
   ],
   "provenance": []
  },
  "kernelspec": {
   "display_name": "Python 3",
   "name": "python3"
  },
  "language_info": {
   "name": "python"
  }
 },
 "nbformat": 4,
 "nbformat_minor": 0
}
